{
 "cells": [
  {
   "metadata": {},
   "cell_type": "markdown",
   "source": "# Imports",
   "id": "6fae6d6bfab9ddfd"
  },
  {
   "metadata": {
    "collapsed": true,
    "ExecuteTime": {
     "end_time": "2025-01-20T09:34:16.329799Z",
     "start_time": "2025-01-20T09:34:12.971438Z"
    }
   },
   "cell_type": "code",
   "source": [
    "import matplotlib.pyplot as plt\n",
    "import torch\n",
    "import numpy as np\n",
    "import torch.nn as nn\n",
    "from sklearn.metrics import classification_report, precision_score, recall_score, accuracy_score\n",
    "from sklearn.model_selection import train_test_split\n",
    "import os\n",
    "import random\n",
    "import re\n",
    "import pandas as pd\n",
    "import torch.nn.functional as F\n",
    "import matplotlib\n",
    "from torchtext.data.utils import get_tokenizer\n",
    "from torchtext.vocab import build_vocab_from_iterator\n",
    "from nltk.corpus import stopwords\n",
    "from torch.nn import CrossEntropyLoss\n",
    "from torch.optim import Adam\n",
    "from collections import Counter\n",
    "\n",
    "from torch.optim import AdamW\n",
    "from Data import data_processing as dp\n",
    "from torch.optim.lr_scheduler import ReduceLROnPlateau\n",
    "from torch.utils.data import TensorDataset, DataLoader\n",
    "from sklearn.utils.class_weight import compute_class_weight\n",
    "from sklearn import metrics\n",
    "from tqdm import tqdm\n",
    "import torch.optim as optim\n",
    "from torch.utils.data import DataLoader, TensorDataset\n",
    "from AdvancedNet.lstm_analysis import analyze_lstm_performance\n",
    "from torch_lr_finder import LRFinder\n",
    "from torch.optim.lr_scheduler import ReduceLROnPlateau\n",
    "from tqdm.autonotebook import tqdm\n",
    "matplotlib.style.use('ggplot')\n",
    "pd.options.mode.chained_assignment = None"
   ],
   "id": "initial_id",
   "outputs": [
    {
     "name": "stderr",
     "output_type": "stream",
     "text": [
      "/Library/Frameworks/Python.framework/Versions/3.12/lib/python3.12/site-packages/torch_lr_finder/lr_finder.py:5: TqdmWarning: IProgress not found. Please update jupyter and ipywidgets. See https://ipywidgets.readthedocs.io/en/stable/user_install.html\n",
      "  from tqdm.autonotebook import tqdm\n"
     ]
    }
   ],
   "execution_count": 1
  },
  {
   "metadata": {},
   "cell_type": "markdown",
   "source": [
    "## Prepare Data for PyTorch Model:\n",
    "* Retrieve training, validation, and test datasets using `get_training_validation_test_data`.\n",
    "* Convert the features to PyTorch tensors (type `float32`).\n",
    "    - If the features are 2D, unsqueeze to add a sequence dimension.\n",
    "* Convert the target labels to PyTorch tensors (type `long`).\n",
    "* Organize training data into a `TensorDataset` for managing features and labels together.\n",
    "* Use `DataLoader` to load the dataset in batches of size 64 with shuffling enabled for robust training."
   ],
   "id": "9333c4fd722f7b15"
  },
  {
   "metadata": {
    "ExecuteTime": {
     "end_time": "2025-01-20T09:34:16.407954Z",
     "start_time": "2025-01-20T09:34:16.402545Z"
    }
   },
   "cell_type": "code",
   "source": [
    "# For reproducibility\n",
    "seed = 27\n",
    "\n",
    "random.seed(seed)\n",
    "os.environ['PYTHONHASHSEED'] = str(seed)\n",
    "np.random.seed(seed)\n",
    "torch.manual_seed(seed)\n",
    "torch.cuda.manual_seed(seed)"
   ],
   "id": "1073959334c882a0",
   "outputs": [],
   "execution_count": 2
  },
  {
   "metadata": {
    "ExecuteTime": {
     "end_time": "2025-01-20T09:34:16.569427Z",
     "start_time": "2025-01-20T09:34:16.565953Z"
    }
   },
   "cell_type": "code",
   "source": [
    "# Hyperparameters\n",
    "vocab_size = 12_000\n",
    "embedding_dim = 100\n",
    "hidden_dim = 64\n",
    "n_layers = 2\n",
    "seq_len = 18\n",
    "learning_rate = 0.00025\n",
    "max_epochs = 10\n",
    "batch_size = 32"
   ],
   "id": "a03a665e9bab7550",
   "outputs": [],
   "execution_count": 3
  },
  {
   "metadata": {
    "ExecuteTime": {
     "end_time": "2025-01-20T09:34:17.572030Z",
     "start_time": "2025-01-20T09:34:16.582882Z"
    }
   },
   "cell_type": "code",
   "source": [
    "dataset = pd.read_csv('../Data/train.csv')\n",
    "train_ds, test_ds = train_test_split(dataset, test_size=0.25, random_state=seed)\n",
    "\n",
    "test_ds_ids = test_ds['id']\n",
    "\n",
    "train_ds.shape, test_ds.shape\n"
   ],
   "id": "c5a22093c97a8063",
   "outputs": [
    {
     "data": {
      "text/plain": [
       "((15600, 5), (5200, 5))"
      ]
     },
     "execution_count": 4,
     "metadata": {},
     "output_type": "execute_result"
    }
   ],
   "execution_count": 4
  },
  {
   "metadata": {
    "ExecuteTime": {
     "end_time": "2025-01-20T09:34:17.602876Z",
     "start_time": "2025-01-20T09:34:17.589443Z"
    }
   },
   "cell_type": "code",
   "source": [
    "# Handling missing values in the title column\n",
    "train_ds[\"title\"] = train_ds[\"title\"].fillna(\"\")\n",
    "test_ds[\"title\"] = test_ds[\"title\"].fillna(\"\")\n",
    "\n",
    "# Use only the \"title\" column as the new feature\n",
    "train_ds[\"new_text\"] = train_ds[\"title\"]\n",
    "test_ds[\"new_text\"] = test_ds[\"title\"]"
   ],
   "id": "dfcca42ff47b9fe1",
   "outputs": [],
   "execution_count": 5
  },
  {
   "metadata": {
    "ExecuteTime": {
     "end_time": "2025-01-20T09:34:17.661390Z",
     "start_time": "2025-01-20T09:34:17.618705Z"
    }
   },
   "cell_type": "code",
   "source": [
    "dataset = train_ds.sample(frac=1).reset_index(drop=True)\n",
    "\n",
    "train = dataset[:int(0.95 * len(dataset))]\n",
    "val = dataset[int(0.95 * len(dataset)):]\n",
    "test = test_ds\n",
    "\n",
    "# check the length of 95 percentile of the train data\n",
    "train_lengths = train['title'].apply(lambda x: len(x.split()))\n",
    "print(\"Mean length:\", train_lengths.mean())\n",
    "print(\"95th percentile:\", train_lengths.quantile(0.95))\n",
    "\n",
    "\n",
    "\n",
    "train.shape, val.shape, test.shape\n"
   ],
   "id": "c66fbf0038308ac6",
   "outputs": [
    {
     "name": "stdout",
     "output_type": "stream",
     "text": [
      "Mean length: 12.094399460188933\n",
      "95th percentile: 18.0\n"
     ]
    },
    {
     "data": {
      "text/plain": [
       "((14820, 6), (780, 6), (5200, 6))"
      ]
     },
     "execution_count": 6,
     "metadata": {},
     "output_type": "execute_result"
    }
   ],
   "execution_count": 6
  },
  {
   "metadata": {
    "ExecuteTime": {
     "end_time": "2025-01-20T09:34:17.745273Z",
     "start_time": "2025-01-20T09:34:17.680378Z"
    }
   },
   "cell_type": "code",
   "source": [
    "def calculate_vocab_size(data, coverage=0.80):\n",
    "    \"\"\"\n",
    "    Calculate the vocabulary size based on the desired coverage of word frequency.\n",
    "    \"\"\"\n",
    "    all_words = [word for text in data for word in text.split()]\n",
    "    word_counts = Counter(all_words)\n",
    "    counts = np.array(list(word_counts.values()))\n",
    "    sorted_counts = np.sort(counts)[::-1]\n",
    "    cumsum = np.cumsum(sorted_counts) / sum(sorted_counts)\n",
    "    vocab_size = np.argmax(cumsum >= coverage) + 1\n",
    "\n",
    "    return vocab_size\n",
    "\n",
    "titles = train['title'].tolist()\n",
    "vocab_size_95 = calculate_vocab_size(titles, coverage=0.80)\n",
    "print(f\"To cover 80% of the frequency, you need {vocab_size_95} words.\")\n",
    "\n"
   ],
   "id": "eb67cbfd9bec5cd2",
   "outputs": [
    {
     "name": "stdout",
     "output_type": "stream",
     "text": [
      "To cover 80% of the frequency, you need 5847 words.\n"
     ]
    }
   ],
   "execution_count": 7
  },
  {
   "metadata": {
    "ExecuteTime": {
     "end_time": "2025-01-20T09:34:17.779386Z",
     "start_time": "2025-01-20T09:34:17.768739Z"
    }
   },
   "cell_type": "code",
   "source": [
    "def build_vocabulary():\n",
    "    # Use the \"title\" column as the text source\n",
    "    train_iterator = list(zip(train['title'], train['label']))\n",
    "    tokenizer = get_tokenizer(\"basic_english\")\n",
    "\n",
    "    def tokenizer_fn(data_iterator):\n",
    "        for text, _ in data_iterator:\n",
    "            yield tokenizer(text)\n",
    "\n",
    "    vocab = build_vocab_from_iterator(\n",
    "        tokenizer_fn(train_iterator),\n",
    "        specials=[\"<unk>\"],\n",
    "        max_tokens=vocab_size)\n",
    "    vocab.set_default_index(vocab[\"<unk>\"])\n",
    "\n",
    "    return vocab, tokenizer\n",
    "\n",
    "\n",
    "def clean_text(dataframe):\n",
    "    stop_words = list(set(stopwords.words('english')))\n",
    "\n",
    "    def _process_text(text):\n",
    "        text = text.lower()\n",
    "        text = \" \".join([word for word in text.split() if word not in stop_words])\n",
    "        text = re.sub(r\"[^\\w\\s]\", '', text)\n",
    "        return text\n",
    "\n",
    "    # Apply cleaning only to the \"title\" column\n",
    "    dataframe['title'] = dataframe['title'].apply(_process_text)\n",
    "\n",
    "    return dataframe\n",
    "\n",
    "\n",
    "def tokenize_text(dataframe, vocab, tokenizer):\n",
    "    # Tokenize the \"title\" column\n",
    "    dataframe[\"title\"] = dataframe[\"title\"].apply(lambda x: np.array(vocab(tokenizer(x)), dtype=np.int64))\n",
    "    if \"label\" in dataframe.columns:\n",
    "        return dataframe[['title', 'label']]\n",
    "    return dataframe[['title']]\n",
    "\n",
    "\n",
    "def pad_tokens(dataframe, vocab, max_len):\n",
    "    # Pad tokens in the \"title\" column\n",
    "    dataframe['title'] = dataframe['title'].apply(\n",
    "        lambda x: np.pad(x, (0, max(0, max_len - len(x))), 'constant', constant_values=vocab[\"<unk>\"]))\n",
    "    dataframe[\"title\"] = dataframe[\"title\"].apply(\n",
    "        lambda x: x[:max_len])\n",
    "    return dataframe\n",
    "\n",
    "\n",
    "def create_dataloader(dataframe, vocab, tokenizer, seq_len, batch_size):\n",
    "    dataframe = clean_text(dataframe)  # Clean the \"title\" column\n",
    "    dataframe = tokenize_text(dataframe, vocab, tokenizer)  # Tokenize the \"title\" column\n",
    "    dataframe = pad_tokens(dataframe=dataframe, vocab=vocab, max_len=seq_len)  # Pad tokens in the \"title\" column\n",
    "\n",
    "    # Create dataset\n",
    "    if \"label\" in dataframe.columns:\n",
    "        dataset = TensorDataset(\n",
    "            torch.from_numpy(np.vstack(dataframe[\"title\"].values)),\n",
    "            torch.from_numpy(dataframe[\"label\"].values)\n",
    "        )\n",
    "    else:\n",
    "        dataset = TensorDataset(\n",
    "            torch.from_numpy(np.vstack(dataframe[\"title\"].values))\n",
    "        )\n",
    "\n",
    "    return DataLoader(\n",
    "        dataset,\n",
    "        batch_size=batch_size,\n",
    "        num_workers=4\n",
    "    )\n"
   ],
   "id": "47be01e65051caf",
   "outputs": [],
   "execution_count": 8
  },
  {
   "metadata": {
    "ExecuteTime": {
     "end_time": "2025-01-20T09:34:18.045604Z",
     "start_time": "2025-01-20T09:34:17.798710Z"
    }
   },
   "cell_type": "code",
   "source": [
    "vocab, tokenizer = build_vocabulary()\n",
    "\n"
   ],
   "id": "ff53000843a551c2",
   "outputs": [],
   "execution_count": 9
  },
  {
   "metadata": {
    "ExecuteTime": {
     "end_time": "2025-01-20T09:34:19.231877Z",
     "start_time": "2025-01-20T09:34:18.062844Z"
    }
   },
   "cell_type": "code",
   "source": [
    "\n",
    "train_dataloader = create_dataloader(\n",
    "    dataframe=train,\n",
    "    vocab=vocab,\n",
    "    tokenizer=tokenizer,\n",
    "    seq_len=seq_len,\n",
    "    batch_size=batch_size\n",
    ")\n",
    "\n",
    "val_dataloader = create_dataloader(\n",
    "    dataframe=val,\n",
    "    vocab=vocab,\n",
    "    tokenizer=tokenizer,\n",
    "    seq_len=seq_len,\n",
    "    batch_size=batch_size\n",
    ")\n",
    "\n",
    "test_dataloader = create_dataloader(\n",
    "    dataframe=test,\n",
    "    vocab=vocab,\n",
    "    tokenizer=tokenizer,\n",
    "    seq_len=seq_len,\n",
    "    batch_size=batch_size\n",
    ")"
   ],
   "id": "51db9c3b325773",
   "outputs": [],
   "execution_count": 10
  },
  {
   "metadata": {
    "ExecuteTime": {
     "end_time": "2025-01-20T09:34:19.256608Z",
     "start_time": "2025-01-20T09:34:19.252566Z"
    }
   },
   "cell_type": "code",
   "source": [
    "class LSTM(nn.Module):\n",
    "    def __init__(self, vocab_size, embedding_dim, hidden_dim, n_layers, seq_len):\n",
    "        super(LSTM, self).__init__()\n",
    "        self.embedding = nn.Embedding(vocab_size, embedding_dim)\n",
    "        self.lstm = nn.LSTM(\n",
    "            input_size=embedding_dim,\n",
    "            hidden_size=hidden_dim,\n",
    "            num_layers=n_layers,\n",
    "            batch_first=True,\n",
    "            dropout=0.3\n",
    "        )\n",
    "        self.fc = nn.Linear(seq_len * hidden_dim, 2)\n",
    "        self.dropout = nn.Dropout(0.5)\n",
    "\n",
    "    def forward(self, x):\n",
    "        x = self.embedding(x)\n",
    "        x, _ = self.lstm(x)\n",
    "        x = torch.reshape(x, (x.size(0), -1,))\n",
    "        x = self.dropout(x)\n",
    "        x = self.fc(x)\n",
    "        return F.log_softmax(x, dim=-1)"
   ],
   "id": "6722918494294e95",
   "outputs": [],
   "execution_count": 11
  },
  {
   "metadata": {
    "ExecuteTime": {
     "end_time": "2025-01-20T09:34:19.288025Z",
     "start_time": "2025-01-20T09:34:19.277416Z"
    }
   },
   "cell_type": "code",
   "source": [
    "class Trainer:\n",
    "    def __init__(self, model, train_dataloader, val_dataloader, test_dataloader, device, criterion, optimizer):\n",
    "        self.model = model\n",
    "        self.train_dataloader = train_dataloader\n",
    "        self.val_dataloader = val_dataloader\n",
    "        self.test_dataloader = test_dataloader\n",
    "        self.device = device\n",
    "        self.criterion = criterion\n",
    "        self.optimizer = optimizer\n",
    "\n",
    "\n",
    "    def train(self, current_epoch_nr):\n",
    "        self.model.train()\n",
    "\n",
    "        num_batches = len(self.train_dataloader)\n",
    "\n",
    "        preds = []\n",
    "        targets = []\n",
    "        correct = 0\n",
    "        running_loss = 0.0\n",
    "        items_processed = 0\n",
    "\n",
    "        loop = tqdm(enumerate(self.train_dataloader), total=num_batches)\n",
    "        for idx, (x, y) in loop:\n",
    "            x = x.to(self.device)\n",
    "            y = y.to(self.device)\n",
    "\n",
    "            y_hat = self.model(x)\n",
    "\n",
    "            loss = self.criterion(y_hat, y)\n",
    "            loss.backward()\n",
    "\n",
    "            self.optimizer.step()\n",
    "            self.optimizer.zero_grad()\n",
    "\n",
    "            running_loss += loss.item()\n",
    "\n",
    "            _, predicted = y_hat.max(1)\n",
    "            items_processed += y.size(0)\n",
    "            correct += predicted.eq(y).sum().item()\n",
    "\n",
    "            targets.extend(y.detach().cpu().numpy().flatten())\n",
    "            preds.extend(predicted.detach().cpu().numpy().flatten())\n",
    "\n",
    "            loop.set_description(f'Epoch {current_epoch_nr + 1}')\n",
    "            loop.set_postfix(\n",
    "                train_acc=round(correct / items_processed, 4),\n",
    "                train_loss=round(running_loss / items_processed, 4)\n",
    "            )\n",
    "\n",
    "        train_auc = metrics.roc_auc_score(targets, preds)\n",
    "        train_accuracy = correct / items_processed\n",
    "        train_loss = running_loss / items_processed\n",
    "\n",
    "        return train_auc, train_accuracy, train_loss\n",
    "\n",
    "    def evaluate(self, current_epoch_nr, scheduler):\n",
    "        self.model.eval()\n",
    "\n",
    "        num_batches = len(self.val_dataloader)\n",
    "\n",
    "        preds = []\n",
    "        targets = []\n",
    "        correct = 0\n",
    "        running_loss = 0.0\n",
    "        items_processed = 0\n",
    "\n",
    "        with torch.no_grad():\n",
    "            loop = tqdm(enumerate(self.val_dataloader), total=num_batches)\n",
    "            for idx, (x, y) in loop:\n",
    "                x = x.to(self.device)\n",
    "                y = y.to(self.device)\n",
    "\n",
    "                y_hat = self.model(x)\n",
    "\n",
    "                loss = self.criterion(y_hat, y)\n",
    "\n",
    "                running_loss += loss.item()\n",
    "\n",
    "                _, predicted = y_hat.max(1)\n",
    "                items_processed += y.size(0)\n",
    "                correct += predicted.eq(y).sum().item()\n",
    "\n",
    "                targets.extend(y.detach().cpu().numpy().flatten())\n",
    "                preds.extend(predicted.detach().cpu().numpy().flatten())\n",
    "\n",
    "                loop.set_description(f'Epoch {current_epoch_nr + 1}')\n",
    "                loop.set_postfix(\n",
    "                    val_acc=round(correct / items_processed, 4),\n",
    "                    val_loss=round(running_loss / items_processed, 4)\n",
    "                )\n",
    "\n",
    "        val_auc = metrics.roc_auc_score(targets, preds)\n",
    "        validation_accuracy = correct / items_processed\n",
    "        validation_loss = running_loss / num_batches\n",
    "\n",
    "        scheduler.step(validation_loss)\n",
    "        print(f\"Current Learning Rate: {scheduler.optimizer.param_groups[0]['lr']}\")\n",
    "\n",
    "        return val_auc, validation_accuracy, validation_loss\n",
    "\n",
    "    def predict(self):\n",
    "        self.model.eval()\n",
    "\n",
    "        num_batches = len(self.test_dataloader)\n",
    "\n",
    "        preds = []\n",
    "\n",
    "        with torch.no_grad():\n",
    "            loop = tqdm(enumerate(self.test_dataloader), total=num_batches)\n",
    "            for idx, x in loop:\n",
    "                x = x[0].to(self.device)\n",
    "                y_hat = self.model(x)\n",
    "                _, predicted = y_hat.max(1)\n",
    "                preds.extend(predicted.detach().cpu().numpy().flatten())\n",
    "\n",
    "        return preds"
   ],
   "id": "a290ad009fe526c1",
   "outputs": [],
   "execution_count": 12
  },
  {
   "metadata": {
    "ExecuteTime": {
     "end_time": "2025-01-20T09:36:26.873146Z",
     "start_time": "2025-01-20T09:34:19.307121Z"
    }
   },
   "cell_type": "code",
   "source": [
    "# Set device yo cpu:\n",
    "device = \"cpu\"\n",
    "\n",
    "\n",
    "model = LSTM(\n",
    "    vocab_size=vocab_size,\n",
    "    embedding_dim=embedding_dim,\n",
    "    hidden_dim=hidden_dim,\n",
    "    n_layers=n_layers,\n",
    "    seq_len=seq_len\n",
    ").to(device)\n",
    "\n",
    "class_weights = compute_class_weight('balanced', classes=np.array([0, 1]), y=train[\"label\"])\n",
    "class_weights = torch.tensor(class_weights, dtype=torch.float).to(device)\n",
    "\n",
    "criterion = CrossEntropyLoss(weight=class_weights, reduction=\"mean\")\n",
    "optimizer = Adam(model.parameters(), lr=learning_rate, weight_decay=1e-5)\n",
    "scheduler = ReduceLROnPlateau(optimizer, mode='min', factor=0.1, patience=2)\n",
    "\n",
    "trainer = Trainer(\n",
    "    model=model,\n",
    "    train_dataloader=train_dataloader,\n",
    "    val_dataloader=val_dataloader,\n",
    "    test_dataloader=test_dataloader,\n",
    "    device=device,\n",
    "    criterion=criterion,\n",
    "    optimizer=optimizer\n",
    ")\n",
    "\n",
    "train_aucs = []\n",
    "train_accs = []\n",
    "train_losses = []\n",
    "\n",
    "val_aucs = []\n",
    "val_accs = []\n",
    "val_losses = []\n",
    "\n",
    "for epoch in range(max_epochs):\n",
    "    train_auc, train_accuracy, train_loss = trainer.train(\n",
    "        current_epoch_nr=epoch)\n",
    "    train_aucs.append(train_auc)\n",
    "    train_accs.append(train_accuracy)\n",
    "    train_losses.append(train_loss)\n",
    "\n",
    "    val_auc, val_accuracy, val_loss = trainer.evaluate(\n",
    "        current_epoch_nr=epoch, scheduler=scheduler)\n",
    "    val_aucs.append(val_auc)\n",
    "    val_accs.append(val_accuracy)\n",
    "    val_losses.append(val_loss)\n"
   ],
   "id": "7bb25df62540e0ce",
   "outputs": [
    {
     "name": "stderr",
     "output_type": "stream",
     "text": [
      "Epoch 1: 100%|██████████| 464/464 [00:10<00:00, 45.92it/s, train_acc=0.875, train_loss=0.0096]\n",
      "Epoch 1: 100%|██████████| 25/25 [00:02<00:00, 10.31it/s, val_acc=0.909, val_loss=0.0075]"
     ]
    },
    {
     "name": "stdout",
     "output_type": "stream",
     "text": [
      "Current Learning Rate: 0.00025\n"
     ]
    },
    {
     "name": "stderr",
     "output_type": "stream",
     "text": [
      "\n",
      "Epoch 2: 100%|██████████| 464/464 [00:09<00:00, 50.38it/s, train_acc=0.916, train_loss=0.0067]\n",
      "Epoch 2: 100%|██████████| 25/25 [00:02<00:00, 11.07it/s, val_acc=0.91, val_loss=0.0067] "
     ]
    },
    {
     "name": "stdout",
     "output_type": "stream",
     "text": [
      "Current Learning Rate: 0.00025\n"
     ]
    },
    {
     "name": "stderr",
     "output_type": "stream",
     "text": [
      "\n",
      "Epoch 3: 100%|██████████| 464/464 [00:09<00:00, 49.14it/s, train_acc=0.928, train_loss=0.0056]\n",
      "Epoch 3: 100%|██████████| 25/25 [00:02<00:00, 11.18it/s, val_acc=0.915, val_loss=0.0065]"
     ]
    },
    {
     "name": "stdout",
     "output_type": "stream",
     "text": [
      "Current Learning Rate: 0.00025\n"
     ]
    },
    {
     "name": "stderr",
     "output_type": "stream",
     "text": [
      "\n",
      "Epoch 4: 100%|██████████| 464/464 [00:10<00:00, 42.24it/s, train_acc=0.942, train_loss=0.0046]\n",
      "Epoch 4: 100%|██████████| 25/25 [00:02<00:00, 10.60it/s, val_acc=0.911, val_loss=0.0065]"
     ]
    },
    {
     "name": "stdout",
     "output_type": "stream",
     "text": [
      "Current Learning Rate: 0.00025\n"
     ]
    },
    {
     "name": "stderr",
     "output_type": "stream",
     "text": [
      "\n",
      "Epoch 5: 100%|██████████| 464/464 [00:10<00:00, 42.23it/s, train_acc=0.954, train_loss=0.0038]\n",
      "Epoch 5: 100%|██████████| 25/25 [00:02<00:00, 10.86it/s, val_acc=0.919, val_loss=0.0067]"
     ]
    },
    {
     "name": "stdout",
     "output_type": "stream",
     "text": [
      "Current Learning Rate: 0.00025\n"
     ]
    },
    {
     "name": "stderr",
     "output_type": "stream",
     "text": [
      "\n",
      "Epoch 6: 100%|██████████| 464/464 [00:10<00:00, 45.22it/s, train_acc=0.965, train_loss=0.003] \n",
      "Epoch 6: 100%|██████████| 25/25 [00:02<00:00, 10.59it/s, val_acc=0.917, val_loss=0.007]"
     ]
    },
    {
     "name": "stdout",
     "output_type": "stream",
     "text": [
      "Current Learning Rate: 2.5e-05\n"
     ]
    },
    {
     "name": "stderr",
     "output_type": "stream",
     "text": [
      "\n",
      "Epoch 7: 100%|██████████| 464/464 [00:10<00:00, 43.57it/s, train_acc=0.978, train_loss=0.0021]\n",
      "Epoch 7: 100%|██████████| 25/25 [00:02<00:00, 10.61it/s, val_acc=0.918, val_loss=0.0076]"
     ]
    },
    {
     "name": "stdout",
     "output_type": "stream",
     "text": [
      "Current Learning Rate: 2.5e-05\n"
     ]
    },
    {
     "name": "stderr",
     "output_type": "stream",
     "text": [
      "\n",
      "Epoch 8: 100%|██████████| 464/464 [00:09<00:00, 49.65it/s, train_acc=0.98, train_loss=0.0019] \n",
      "Epoch 8: 100%|██████████| 25/25 [00:02<00:00,  9.62it/s, val_acc=0.918, val_loss=0.008]"
     ]
    },
    {
     "name": "stdout",
     "output_type": "stream",
     "text": [
      "Current Learning Rate: 2.5e-05\n"
     ]
    },
    {
     "name": "stderr",
     "output_type": "stream",
     "text": [
      "\n",
      "Epoch 9: 100%|██████████| 464/464 [00:09<00:00, 47.18it/s, train_acc=0.981, train_loss=0.0018]\n",
      "Epoch 9: 100%|██████████| 25/25 [00:02<00:00, 11.14it/s, val_acc=0.919, val_loss=0.0081]"
     ]
    },
    {
     "name": "stdout",
     "output_type": "stream",
     "text": [
      "Current Learning Rate: 2.5e-06\n"
     ]
    },
    {
     "name": "stderr",
     "output_type": "stream",
     "text": [
      "\n",
      "Epoch 10: 100%|██████████| 464/464 [00:09<00:00, 50.63it/s, train_acc=0.983, train_loss=0.0017]\n",
      "Epoch 10: 100%|██████████| 25/25 [00:02<00:00, 10.33it/s, val_acc=0.924, val_loss=0.0083]"
     ]
    },
    {
     "name": "stdout",
     "output_type": "stream",
     "text": [
      "Current Learning Rate: 2.5e-06\n"
     ]
    },
    {
     "name": "stderr",
     "output_type": "stream",
     "text": [
      "\n"
     ]
    }
   ],
   "execution_count": 13
  },
  {
   "metadata": {
    "ExecuteTime": {
     "end_time": "2025-01-20T09:36:27.608034Z",
     "start_time": "2025-01-20T09:36:26.928946Z"
    }
   },
   "cell_type": "code",
   "source": [
    "fig, axs = plt.subplots(1, 3, figsize=(12, 4))\n",
    "\n",
    "axs[0].plot(train_aucs, label='train')\n",
    "axs[0].plot(val_aucs, label='val')\n",
    "axs[0].set_xlabel('Epochs')\n",
    "axs[0].set_title('AUC')\n",
    "axs[0].legend()\n",
    "\n",
    "axs[1].plot(train_accs, label='train')\n",
    "axs[1].plot(val_accs, label='val')\n",
    "axs[1].set_xlabel('Epochs')\n",
    "axs[1].set_title('Accuracy')\n",
    "axs[1].legend()\n",
    "\n",
    "axs[2].plot(train_losses, label='train')\n",
    "axs[2].plot(val_losses, label='val')\n",
    "axs[2].set_xlabel('Epochs')\n",
    "axs[2].set_title('Loss')\n",
    "axs[2].legend()\n",
    "\n",
    "plt.tight_layout()\n",
    "plt.show()"
   ],
   "id": "86fa066371ffcfb",
   "outputs": [
    {
     "data": {
      "text/plain": [
       "<Figure size 1200x400 with 3 Axes>"
      ],
      "image/png": "[encoded data removed]"
     },
     "metadata": {},
     "output_type": "display_data"
    }
   ],
   "execution_count": 14
  },
  {
   "metadata": {
    "ExecuteTime": {
     "end_time": "2025-01-20T09:36:30.822732Z",
     "start_time": "2025-01-20T09:36:27.631393Z"
    }
   },
   "cell_type": "code",
   "source": [
    "# we want to predict the test set like this code:\n",
    "predictions = trainer.predict()\n",
    "\n",
    "print(classification_report(test[\"label\"], predictions))\n",
    "print(\"Accuracy:\", accuracy_score(test[\"label\"], predictions))\n",
    "print(\"Precision:\", precision_score(test[\"label\"], predictions, average='weighted'))\n",
    "print(\"Recall:\", recall_score(test[\"label\"], predictions, average='weighted'))\n",
    "\n"
   ],
   "id": "1cf2e5031682177e",
   "outputs": [
    {
     "name": "stderr",
     "output_type": "stream",
     "text": [
      "100%|██████████| 163/163 [00:02<00:00, 55.82it/s] "
     ]
    },
    {
     "name": "stdout",
     "output_type": "stream",
     "text": [
      "              precision    recall  f1-score   support\n",
      "\n",
      "           0       0.95      0.91      0.93      2644\n",
      "           1       0.91      0.95      0.93      2556\n",
      "\n",
      "    accuracy                           0.93      5200\n",
      "   macro avg       0.93      0.93      0.93      5200\n",
      "weighted avg       0.93      0.93      0.93      5200\n",
      "\n",
      "Accuracy: 0.9255769230769231\n",
      "Precision: 0.926436141125201\n",
      "Recall: 0.9255769230769231\n"
     ]
    },
    {
     "name": "stderr",
     "output_type": "stream",
     "text": [
      "\n"
     ]
    }
   ],
   "execution_count": 15
  }
 ],
 "metadata": {
  "kernelspec": {
   "display_name": "Python 3",
   "language": "python",
   "name": "python3"
  },
  "language_info": {
   "codemirror_mode": {
    "name": "ipython",
    "version": 2
   },
   "file_extension": ".py",
   "mimetype": "text/x-python",
   "name": "python",
   "nbconvert_exporter": "python",
   "pygments_lexer": "ipython2",
   "version": "2.7.6"
  }
 },
 "nbformat": 4,
 "nbformat_minor": 5
}
